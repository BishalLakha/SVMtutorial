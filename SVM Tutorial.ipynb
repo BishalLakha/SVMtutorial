{
 "cells": [
  {
   "cell_type": "markdown",
   "metadata": {},
   "source": [
    "# Support Vector Machine\n",
    "Originally invented by Vladimir N. Vapnik and Alexey Ya. Chervonenkis in 1963, Support Vector Machine is a supervised machine learning algorithm. SVM can be used for both classification and regresion but it is mostly used for classification problems. We will also learn here to use SVM for solving classification problem. "
   ]
  },
  {
   "cell_type": "markdown",
   "metadata": {},
   "source": [
    "## Preparing Necessary Tools"
   ]
  },
  {
   "cell_type": "markdown",
   "metadata": {},
   "source": [
    "### 1. Installing Necessary Packages\n",
    "We will be implementing SVM algorithm through Python.Before that, we need to install some packages that we will be need to use. We will need NumPy for array manipulation. Matplotlib will be used to for graphical outputs.SciPy provides many user-friendly and efficient numerical routines such as routines for numerical integration and optimization. Scikit-learn is built on NumPy, SciPy, and matplotlib and is used for data analysis and data mining. We will implement SVM through it."
   ]
  },
  {
   "cell_type": "code",
   "execution_count": 3,
   "metadata": {
    "collapsed": false
   },
   "outputs": [
    {
     "name": "stdout",
     "output_type": "stream",
     "text": [
      "Requirement already satisfied: numpy in c:\\users\\bishal\\anaconda3\\lib\\site-packages\n",
      "Requirement already satisfied: scipy in c:\\users\\bishal\\anaconda3\\lib\\site-packages\n",
      "Requirement already satisfied: matplotlib in c:\\users\\bishal\\anaconda3\\lib\\site-packages\n",
      "Requirement already satisfied: numpy>=1.6 in c:\\users\\bishal\\anaconda3\\lib\\site-packages (from matplotlib)\n",
      "Requirement already satisfied: python-dateutil in c:\\users\\bishal\\anaconda3\\lib\\site-packages (from matplotlib)\n",
      "Requirement already satisfied: pytz in c:\\users\\bishal\\anaconda3\\lib\\site-packages (from matplotlib)\n",
      "Requirement already satisfied: cycler in c:\\users\\bishal\\anaconda3\\lib\\site-packages (from matplotlib)\n",
      "Requirement already satisfied: pyparsing!=2.0.4,>=1.5.6 in c:\\users\\bishal\\anaconda3\\lib\\site-packages (from matplotlib)\n",
      "Requirement already satisfied: six>=1.5 in c:\\users\\bishal\\anaconda3\\lib\\site-packages (from python-dateutil->matplotlib)\n",
      "Requirement already satisfied: scikit-learn in c:\\users\\bishal\\anaconda3\\lib\\site-packages\n"
     ]
    }
   ],
   "source": [
    "!pip install numpy\n",
    "!pip install scipy\n",
    "!pip install matplotlib\n",
    "!pip install scikit-learn"
   ]
  },
  {
   "cell_type": "markdown",
   "metadata": {},
   "source": [
    "###  2. Importing required packages\n",
    "After installing the packages we need to import them to be able to use them."
   ]
  },
  {
   "cell_type": "code",
   "execution_count": 9,
   "metadata": {
    "collapsed": false
   },
   "outputs": [],
   "source": [
    "import warnings\n",
    "warnings.filterwarnings('ignore')\n",
    "import pandas as pd\n",
    "import numpy as np\n",
    "import matplotlib.pyplot as plt\n",
    "% matplotlib inline\n",
    "#import seaborn as sns; sns.set()\n",
    "\n",
    "#from scipy import stats\n",
    "from sklearn.svm import SVC \n",
    "from sklearn import svm,datasets\n",
    "#from sklearn.model_selection import GridSearchCV "
   ]
  },
  {
   "cell_type": "markdown",
   "metadata": {},
   "source": [
    "  ## Let's Start     "
   ]
  },
  {
   "cell_type": "markdown",
   "metadata": {
    "cell_style": "center"
   },
   "source": [
    "We will start by creating our own data to train our SVM classifier. We have 12 data now. See the example at your left and do the exercises. Take hints if you get stuck some where."
   ]
  },
  {
   "cell_type": "code",
   "execution_count": 10,
   "metadata": {
    "cell_style": "center",
    "collapsed": false
   },
   "outputs": [
    {
     "data": {
      "image/png": "[encoded data removed]",
      "text/plain": [
       "<matplotlib.figure.Figure at 0x2f3809d0f0>"
      ]
     },
     "metadata": {},
     "output_type": "display_data"
    }
   ],
   "source": [
    "x = [1, 2, 2.1, 3, 2, 1.5, 7, 8, 9.5, 7.2, 9,  8.3]\n",
    "y = [2, 2, 1,   2, 3, 3,   8, 9, 9.5, 7.5, 9.2, 10]\n",
    "plt.scatter(x,y)\n",
    "plt.show()"
   ]
  },
  {
   "cell_type": "markdown",
   "metadata": {},
   "source": [
    "We will use x and y to make our feature vector and label the first half '0' and other half '1'. In the figure the cluster near zero represent class '0' and the other cluster represents class '1'."
   ]
  },
  {
   "cell_type": "code",
   "execution_count": 11,
   "metadata": {
    "cell_style": "center",
    "collapsed": false
   },
   "outputs": [],
   "source": [
    "X = np.array([[1,2],[2,2],[2.1,1],[3,2],[2,3],[1.5,3],[7,8],[8,9],[9.5,9.5],[7.2,7.5],[9,9.2],[8.3,10]])\n",
    "Y = [0,0,0,0,0,0,1,1,1,1,1,1]\n"
   ]
  },
  {
   "cell_type": "markdown",
   "metadata": {},
   "source": [
    "We now use our data to train our classifier. The gamma parameter that we used defines how far the influence of a single training example reaches, with low values meaning ‘far’ and high values meaning ‘close’. The gamma parameters can be seen as the inverse of the radius of influence of samples selected by the model as support vectors.\n",
    "\n",
    "The C parameter trades off misclassification of training examples against simplicity of the decision surface. A low C makes the decision surface smooth, while a high C aims at classifying all training examples correctly by giving the model freedom to select more samples as support vectors.\n",
    "\n",
    "Now we will test our model by feeding it different data and check in which class our data fall. "
   ]
  },
  {
   "cell_type": "code",
   "execution_count": 15,
   "metadata": {
    "cell_style": "split",
    "collapsed": false,
    "solution": "hidden"
   },
   "outputs": [
    {
     "name": "stdout",
     "output_type": "stream",
     "text": [
      "Class = [1]\n"
     ]
    }
   ],
   "source": [
    "#Defining SVM classifier\n",
    "simple_svm = svm.SVC(kernel='linear', C = 1.0,gamma = 0)\n",
    "\n",
    "#Training the classifier\n",
    "simple_svm.fit(X,Y)\n",
    "\n",
    "#Testing the classifier\n",
    "print(\"Class =\",simple_svm.predict([6,7.6]))\n"
   ]
  },
  {
   "cell_type": "markdown",
   "metadata": {
    "cell_style": "split",
    "solution": "hidden",
    "solution_first": true
   },
   "source": [
    "**Now check the model yoursel to find class having feature (1,4.7). Click in the <span class=\"mark\">' + '</span> button if you need hint. Compare your answer by clicking in <span class=\"girk\">'Show Solution'</span> button. **"
   ]
  },
  {
   "cell_type": "markdown",
   "metadata": {
    "cell_style": "split",
    "solution": "hidden"
   },
   "source": [
    " <span class=\"girk\"><span class=\"mark\">Use simple_svm.predict() to find the value and \n",
    " use print to display the result. Your answer should be [0]</span></span>"
   ]
  },
  {
   "cell_type": "code",
   "execution_count": null,
   "metadata": {
    "cell_style": "split",
    "collapsed": true,
    "solution2": "hidden",
    "solution2_first": true
   },
   "outputs": [],
   "source": [
    "#Enter your code here\n",
    "\n",
    "\n"
   ]
  },
  {
   "cell_type": "code",
   "execution_count": 16,
   "metadata": {
    "cell_style": "split",
    "collapsed": false,
    "solution2": "hidden"
   },
   "outputs": [
    {
     "name": "stdout",
     "output_type": "stream",
     "text": [
      "Class = [0]\n"
     ]
    }
   ],
   "source": [
    "print(\"Class =\",simple_svm.predict([1,4.7]))"
   ]
  },
  {
   "cell_type": "markdown",
   "metadata": {},
   "source": [
    "The coefficients given by **'svm.coef__'** are  the coordinates of a vector which is orthogonal to the hyperplane that separates the two classes. We will use the vector to calculate the slope of line given by our SVM classifier and then use it to plot the line. "
   ]
  },
  {
   "cell_type": "code",
   "execution_count": 14,
   "metadata": {
    "collapsed": false
   },
   "outputs": [
    {
     "name": "stdout",
     "output_type": "stream",
     "text": [
      "a =  [ 0.20619334  0.20617664]\n"
     ]
    },
    {
     "data": {
      "image/png": "[encoded data removed]",
      "text/plain": [
       "<matplotlib.figure.Figure at 0x2f3849d828>"
      ]
     },
     "metadata": {},
     "output_type": "display_data"
    }
   ],
   "source": [
    "a = simple_svm.coef_[0]\n",
    "print(\"a = \", a)\n",
    "\n",
    "#Calculating slope \n",
    "w = -a[0] / a[1]\n",
    "\n",
    "xx = np.linspace(0,12)\n",
    "\n",
    "# Equation of the line that separates the classes\n",
    "yy = w * xx - simple_svm.intercept_[0] / a[1]\n",
    "\n",
    "plt.plot(xx, yy)\n",
    "plt.scatter(X[:, 0], X[:, 1], c = y)\n",
    "plt.show()"
   ]
  },
  {
   "cell_type": "markdown",
   "metadata": {},
   "source": [
    "The blue line is the hyperplane that separates our data into two classes. Now we will use  real data to train and test our classifier."
   ]
  },
  {
   "cell_type": "markdown",
   "metadata": {
    "collapsed": false
   },
   "source": [
    "## SVM With Real Data"
   ]
  },
  {
   "cell_type": "markdown",
   "metadata": {},
   "source": [
    " In this section we will see an example of SVM classifier using real data (iris dataset) than we will do an exercise where we will build our own  classifier to find malignant or benign cancer. \n",
    " \n",
    " NOTE: Use **triangular icon** at bottom right to try the codes separately. "
   ]
  },
  {
   "cell_type": "markdown",
   "metadata": {
    "cell_style": "split"
   },
   "source": [
    "### Example: This data sets consists of 3 different types of irises:\n",
    "\n",
    "1.Setosa,\n",
    "\n",
    "2.Versicolour,\n",
    "\n",
    "3.Virginica \n",
    "\n",
    "\n",
    "Petal and sepal length, stored in a 150x4 numpy array.\n",
    "\n",
    "The rows being the samples. \n",
    "\n",
    "And the columns being: Sepal Length, Sepal Width, Petal Length and Petal Width.\n",
    "\n"
   ]
  },
  {
   "cell_type": "markdown",
   "metadata": {
    "cell_style": "split",
    "solution": "hidden",
    "solution_first": true
   },
   "source": [
    "### Exercise: Use SVM to classify cancer type\n",
    "We will be using sample of breast cancer databases  obtained from the University of Wisconsin Hospitals.\n",
    "######    Data Overview:\n",
    "    Classes:\t2 (Malignant(M), Benign(B))\n",
    "    Samples per class:\t212(M), 357(B)\n",
    "    Samples total:\t569\n",
    "    Dimensionality:\t30\n",
    "    Features:\treal, positive\n",
    "Click in the ' + ' button if you need hint. Compare your answer by clicking in <span class=\"girk\">'Show Solution'</span> button. **"
   ]
  },
  {
   "cell_type": "markdown",
   "metadata": {
    "cell_style": "split",
    "solution": "hidden"
   },
   "source": [
    "Use **svm.SVC() function to build a SVM classifier \n",
    "and feed the classifier X_train and Y_train to train it.\n",
    "Use X_test and Y_test to check accuracy of model. The model should give 97.1014492754 % accuracy,"
   ]
  },
  {
   "cell_type": "code",
   "execution_count": 22,
   "metadata": {
    "cell_style": "split",
    "collapsed": false,
    "solution": "hidden"
   },
   "outputs": [
    {
     "name": "stdout",
     "output_type": "stream",
     "text": [
      "accuracy =  86.6666666667 %\n"
     ]
    }
   ],
   "source": [
    "\n",
    "#This data sets consists of 3 different types of irises’\n",
    "#(Setosa, Versicolour, and Virginica) petal and\n",
    "#sepal length, stored in a 150x4 numpy.ndarray\n",
    "\n",
    "iris = datasets.load_iris()\n",
    "\n",
    "#Features \n",
    "X = iris.data\n",
    "#labels: Setosa, Versicolour, and Virginica\n",
    "Y = iris.target\n",
    "\n",
    "#We will be dividing the data into two parts. 120 data \n",
    "#( both features and labels) will be used \n",
    "#to train our SVM classifier and rest ( 30)\n",
    "#will be used to test our model.\n",
    "\n",
    "\n",
    "X_train = X[:120]\n",
    "X_test = X[120:]\n",
    "#Train and Test Labels\n",
    "Y_train = Y[:120]\n",
    "Y_test = Y[120:]\n",
    "\n",
    "\n",
    "#Now , we will use the our training data to \n",
    "#create a SVM classifier.\n",
    "iris_type = svm.SVC(kernel='linear', C=1,gamma=0)\n",
    "iris_type.fit(X_train, Y_train)\n",
    "\n",
    "\n",
    "\n",
    "#After we train our SVM classifier , \n",
    "#we test how well it works using our test data.\n",
    "accuracy = iris_type.score(X_test,Y_test)\n",
    "print(\"accuracy = \",accuracy * 100,\"%\")\n",
    "\n",
    "\n"
   ]
  },
  {
   "cell_type": "code",
   "execution_count": 24,
   "metadata": {
    "cell_style": "split",
    "collapsed": true,
    "solution2": "hidden",
    "solution2_first": true
   },
   "outputs": [],
   "source": [
    "cancer = datasets.load_breast_cancer()\n",
    "#Features \n",
    "X = cancer.data\n",
    "#labels: Malignant or Benign\n",
    "Y = cancer.target\n",
    "\n",
    "#We will be dividing the data into two parts. 500 data \n",
    "#( both features and labels) will be used \n",
    "#to train our SVM classifier and rest ( 69)\n",
    "#will be used to test our model.\n",
    "\n",
    "#Train and Test Features\n",
    "X_train = X[:500]\n",
    "X_test = X[500:]\n",
    "#Train and Test Labels\n",
    "Y_train = Y[:500]\n",
    "Y_test = Y[500:]\n",
    "\n",
    "#Write your code here\n",
    "#Now , we will use the our training data to \n",
    "#create a SVM classifier.\n",
    "\n",
    "\n",
    "#Find Accuracy\n",
    "\n",
    "\n",
    "\n",
    "\n",
    "\n",
    "\n",
    "\n",
    "\n",
    "\n",
    "\n",
    "\n",
    "\n",
    "\n"
   ]
  },
  {
   "cell_type": "code",
   "execution_count": 27,
   "metadata": {
    "cell_style": "center",
    "collapsed": false,
    "solution": "hidden",
    "solution2": "hidden"
   },
   "outputs": [
    {
     "name": "stdout",
     "output_type": "stream",
     "text": [
      "accuracy =  97.1014492754 %\n"
     ]
    }
   ],
   "source": [
    "#####    Solution    ####\n",
    "\n",
    "cancer = datasets.load_breast_cancer()\n",
    "#Features \n",
    "X = cancer.data\n",
    "#labels: Malignant or Benign\n",
    "Y = cancer.target\n",
    "\n",
    "#We will be dividing the data into two parts. 500 data \n",
    "#( both features and labels) will be used \n",
    "#to train our SVM classifier and rest ( 69)\n",
    "#will be used to test our model.\n",
    "\n",
    "#Train and Test Features\n",
    "X_train = X[:500]\n",
    "X_test = X[500:]\n",
    "#Train and Test Labels\n",
    "Y_train = Y[:500]\n",
    "Y_test = Y[500:]\n",
    "\n",
    "#Now , we will use the our training data to \n",
    "#create a SVM classifier.\n",
    "\n",
    "cancer_type = svm.SVC(kernel='linear', C=1,gamma=0)\n",
    "cancer_type.fit(X_train, Y_train)\n",
    "\n",
    "#After we train our SVM classifier , \n",
    "#we test how well it works using our test data.\n",
    "accuracy = cancer_type.score(X_test,Y_test)\n",
    "print(\"accuracy = \",accuracy * 100,\"%\")"
   ]
  },
  {
   "cell_type": "markdown",
   "metadata": {},
   "source": [
    "Now, lets change the kernel type to **'rbf'** in the example we used ( Iris type classifier) and look at the impact. The (Gaussian) radial basis function kernel, or RBF kernel, is a popular kernel function used in various kernelized learning algorithms"
   ]
  },
  {
   "cell_type": "code",
   "execution_count": 26,
   "metadata": {
    "collapsed": false
   },
   "outputs": [
    {
     "name": "stdout",
     "output_type": "stream",
     "text": [
      "accuracy =  75.3623188406 %\n"
     ]
    }
   ],
   "source": [
    "iris_type = svm.SVC(kernel='rbf', C=1,gamma=0)\n",
    "iris_type.fit(X_train, Y_train)\n",
    "accuracy = iris_type.score(X_test,Y_test)\n",
    "print(\"accuracy = \",accuracy * 100,\"%\")"
   ]
  }
 ],
 "metadata": {
  "anaconda-cloud": {},
  "kernelspec": {
   "display_name": "Python [Root]",
   "language": "python",
   "name": "Python [Root]"
  },
  "language_info": {
   "codemirror_mode": {
    "name": "ipython",
    "version": 3
   },
   "file_extension": ".py",
   "mimetype": "text/x-python",
   "name": "python",
   "nbconvert_exporter": "python",
   "pygments_lexer": "ipython3",
   "version": "3.5.2"
  }
 },
 "nbformat": 4,
 "nbformat_minor": 0
}
